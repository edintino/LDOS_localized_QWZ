{
 "cells": [
  {
   "cell_type": "code",
   "execution_count": 15,
   "metadata": {},
   "outputs": [
    {
     "name": "stdout",
     "output_type": "stream",
     "text": [
      "Populating the interactive namespace from numpy and matplotlib\n"
     ]
    }
   ],
   "source": [
    "%pylab inline\n",
    "import sys\n",
    "import os\n",
    "import fnmatch\n",
    "import pickle"
   ]
  },
  {
   "cell_type": "code",
   "execution_count": 16,
   "metadata": {},
   "outputs": [],
   "source": [
    "\"\"\"Imports the data files in the folder and reads in the relevant lines.\n",
    "The files were saved as data_rseed followed by the random seed number. \"\"\"\n",
    "\n",
    "uu = 1.0\n",
    "dd = 3.0\n",
    "\n",
    "dirname = \"u\" + str(round(uu,2)) + \"_d\" + str(round(dd,2)) + \"/\"\n",
    "files = sort(os.listdir(dirname))\n",
    "data = fnmatch.filter(files,\"data_*\")\n",
    "\n",
    "ldos = {}\n",
    "for file in data:\n",
    "    fp = open(dirname+file, 'r')\n",
    "    dos1 = []\n",
    "    for line in fp.readlines():\n",
    "        if line[0] == \"#\":\n",
    "            pass\n",
    "        else:\n",
    "            dos1.append(float(line))\n",
    "    fp.close()\n",
    "    ldos[file[5:]] = dos1\n",
    "\n",
    "pickle.dump(ldos, open(dirname + \"/pickle_\" + dirname[:-1] + \".p\", \"wb\"))"
   ]
  },
  {
   "cell_type": "code",
   "execution_count": 17,
   "metadata": {},
   "outputs": [],
   "source": [
    "\"\"\"You might want to clean up the folder and keep only the pickle file\"\"\"\n",
    "for dd in arange(0.0,5.1,0.1):\n",
    "    files = np.sort(os.listdir(dirname))\n",
    "    data = fnmatch.filter(files,\"data_*\")\n",
    "    for file in data:\n",
    "        os.remove(dirname+file)"
   ]
  }
 ],
 "metadata": {
  "kernelspec": {
   "display_name": "Python 3",
   "language": "python",
   "name": "python3"
  },
  "language_info": {
   "codemirror_mode": {
    "name": "ipython",
    "version": 3
   },
   "file_extension": ".py",
   "mimetype": "text/x-python",
   "name": "python",
   "nbconvert_exporter": "python",
   "pygments_lexer": "ipython3",
   "version": "3.6.6"
  }
 },
 "nbformat": 4,
 "nbformat_minor": 2
}
